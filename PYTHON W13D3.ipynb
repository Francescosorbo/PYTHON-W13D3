{
 "cells": [
  {
   "cell_type": "markdown",
   "id": "a31729a5-dc15-4ce6-8a8a-072762ec743c",
   "metadata": {},
   "source": [
    "# Sessione TA\n",
    "## Numero 6"
   ]
  },
  {
   "cell_type": "markdown",
   "id": "85d9f207-110f-4bce-b817-093f4f397f95",
   "metadata": {},
   "source": [
    "## Pacchetti\n",
    "### `math`"
   ]
  },
  {
   "cell_type": "code",
   "execution_count": 1,
   "id": "093fa397-b72e-423a-9915-eff44f169b3a",
   "metadata": {},
   "outputs": [],
   "source": [
    "import math"
   ]
  },
  {
   "cell_type": "code",
   "execution_count": 2,
   "id": "7bd6f93a-74f2-4203-9098-8241755055fd",
   "metadata": {},
   "outputs": [
    {
     "data": {
      "text/plain": [
       "5.0"
      ]
     },
     "execution_count": 2,
     "metadata": {},
     "output_type": "execute_result"
    }
   ],
   "source": [
    "numero = 25\n",
    "math.sqrt(numero)"
   ]
  },
  {
   "cell_type": "code",
   "execution_count": 3,
   "id": "f8bae532-3122-4de2-bb38-25c912a4918f",
   "metadata": {},
   "outputs": [
    {
     "data": {
      "text/plain": [
       "120"
      ]
     },
     "execution_count": 3,
     "metadata": {},
     "output_type": "execute_result"
    }
   ],
   "source": [
    "math.factorial(5)"
   ]
  },
  {
   "cell_type": "code",
   "execution_count": 4,
   "id": "d7424bc2-befe-4949-a653-b7e897c7eca0",
   "metadata": {},
   "outputs": [],
   "source": [
    "from math import factorial, sqrt"
   ]
  },
  {
   "cell_type": "code",
   "execution_count": 6,
   "id": "e1eb3c4e-8573-4526-a283-21d87b4f9183",
   "metadata": {},
   "outputs": [
    {
     "data": {
      "text/plain": [
       "120"
      ]
     },
     "execution_count": 6,
     "metadata": {},
     "output_type": "execute_result"
    }
   ],
   "source": [
    "factorial(5)"
   ]
  },
  {
   "cell_type": "code",
   "execution_count": 7,
   "id": "a2941f83-34d3-475d-9bb2-3e691a0f13b4",
   "metadata": {},
   "outputs": [
    {
     "data": {
      "text/plain": [
       "4.47213595499958"
      ]
     },
     "execution_count": 7,
     "metadata": {},
     "output_type": "execute_result"
    }
   ],
   "source": [
    "sqrt(20)"
   ]
  },
  {
   "cell_type": "code",
   "execution_count": 8,
   "id": "b971ae6d-b3d5-4f3f-ac37-9b7889868144",
   "metadata": {},
   "outputs": [],
   "source": [
    "import math as mt"
   ]
  },
  {
   "cell_type": "code",
   "execution_count": 9,
   "id": "bc3d2cf1-2a4b-4af4-bdac-8e8730a615af",
   "metadata": {},
   "outputs": [
    {
     "data": {
      "text/plain": [
       "2.302585092994046"
      ]
     },
     "execution_count": 9,
     "metadata": {},
     "output_type": "execute_result"
    }
   ],
   "source": [
    "mt.log(10)"
   ]
  },
  {
   "cell_type": "markdown",
   "id": "00245a2c-a2ae-4e69-a0dc-64566f2e4046",
   "metadata": {},
   "source": [
    "Come trovare tutte le funzioni e le variabili in un pacchetto, oppure i metodi e gli attributi in un oggetto:"
   ]
  },
  {
   "cell_type": "code",
   "execution_count": 10,
   "id": "f903ee3b-1973-43a0-a7bc-d877a7d2d0ac",
   "metadata": {},
   "outputs": [
    {
     "data": {
      "text/plain": [
       "['__doc__',\n",
       " '__file__',\n",
       " '__loader__',\n",
       " '__name__',\n",
       " '__package__',\n",
       " '__spec__',\n",
       " 'acos',\n",
       " 'acosh',\n",
       " 'asin',\n",
       " 'asinh',\n",
       " 'atan',\n",
       " 'atan2',\n",
       " 'atanh',\n",
       " 'ceil',\n",
       " 'comb',\n",
       " 'copysign',\n",
       " 'cos',\n",
       " 'cosh',\n",
       " 'degrees',\n",
       " 'dist',\n",
       " 'e',\n",
       " 'erf',\n",
       " 'erfc',\n",
       " 'exp',\n",
       " 'expm1',\n",
       " 'fabs',\n",
       " 'factorial',\n",
       " 'floor',\n",
       " 'fmod',\n",
       " 'frexp',\n",
       " 'fsum',\n",
       " 'gamma',\n",
       " 'gcd',\n",
       " 'hypot',\n",
       " 'inf',\n",
       " 'isclose',\n",
       " 'isfinite',\n",
       " 'isinf',\n",
       " 'isnan',\n",
       " 'isqrt',\n",
       " 'lcm',\n",
       " 'ldexp',\n",
       " 'lgamma',\n",
       " 'log',\n",
       " 'log10',\n",
       " 'log1p',\n",
       " 'log2',\n",
       " 'modf',\n",
       " 'nan',\n",
       " 'nextafter',\n",
       " 'perm',\n",
       " 'pi',\n",
       " 'pow',\n",
       " 'prod',\n",
       " 'radians',\n",
       " 'remainder',\n",
       " 'sin',\n",
       " 'sinh',\n",
       " 'sqrt',\n",
       " 'tan',\n",
       " 'tanh',\n",
       " 'tau',\n",
       " 'trunc',\n",
       " 'ulp']"
      ]
     },
     "execution_count": 10,
     "metadata": {},
     "output_type": "execute_result"
    }
   ],
   "source": [
    "dir(math)"
   ]
  },
  {
   "cell_type": "code",
   "execution_count": 12,
   "id": "40623e5d-027e-4a2a-9d1d-83a3ef800a2a",
   "metadata": {},
   "outputs": [
    {
     "name": "stdout",
     "output_type": "stream",
     "text": [
      "Help on built-in function sqrt in module math:\n",
      "\n",
      "sqrt(x, /)\n",
      "    Return the square root of x.\n",
      "\n"
     ]
    }
   ],
   "source": [
    "help(math.sqrt)"
   ]
  },
  {
   "cell_type": "markdown",
   "id": "e275a9dc-35a1-4eb2-b96b-03968c4368be",
   "metadata": {},
   "source": [
    "## Pacchetti\n",
    "### `numpy`"
   ]
  },
  {
   "cell_type": "code",
   "execution_count": 13,
   "id": "1d674838-5b6f-4ce5-a652-3ffc61ff0108",
   "metadata": {},
   "outputs": [],
   "source": [
    "import numpy as np"
   ]
  },
  {
   "cell_type": "code",
   "execution_count": 14,
   "id": "7abb7f78-cc0a-42e6-b397-cdcadba81737",
   "metadata": {},
   "outputs": [],
   "source": [
    "guadagni = [10, 5, 8, 20, 45, 2, 9]"
   ]
  },
  {
   "cell_type": "code",
   "execution_count": 17,
   "id": "02aa50ec-04ec-4596-8088-d875633200bb",
   "metadata": {},
   "outputs": [],
   "source": [
    "guadagni = np.array( guadagni )"
   ]
  },
  {
   "cell_type": "code",
   "execution_count": 18,
   "id": "bd8dc1f2-aa83-430c-9b61-7d1919980307",
   "metadata": {},
   "outputs": [
    {
     "data": {
      "text/plain": [
       "array([10,  5,  8, 20, 45,  2,  9])"
      ]
     },
     "execution_count": 18,
     "metadata": {},
     "output_type": "execute_result"
    }
   ],
   "source": [
    "guadagni"
   ]
  },
  {
   "cell_type": "code",
   "execution_count": 19,
   "id": "4b590e3b-5950-467a-af16-e2dee707eebb",
   "metadata": {},
   "outputs": [
    {
     "data": {
      "text/plain": [
       "numpy.ndarray"
      ]
     },
     "execution_count": 19,
     "metadata": {},
     "output_type": "execute_result"
    }
   ],
   "source": [
    "type(guadagni)"
   ]
  },
  {
   "cell_type": "code",
   "execution_count": 24,
   "id": "8638a029-427c-4e53-8b5f-090b95367810",
   "metadata": {},
   "outputs": [
    {
     "data": {
      "text/plain": [
       "4"
      ]
     },
     "execution_count": 24,
     "metadata": {},
     "output_type": "execute_result"
    }
   ],
   "source": [
    "guadagni.argmax()"
   ]
  },
  {
   "cell_type": "code",
   "execution_count": 25,
   "id": "94ee6f58-78a7-4159-aa03-ea4067ad4bad",
   "metadata": {},
   "outputs": [
    {
     "data": {
      "text/plain": [
       "45"
      ]
     },
     "execution_count": 25,
     "metadata": {},
     "output_type": "execute_result"
    }
   ],
   "source": [
    "guadagni[4]"
   ]
  },
  {
   "cell_type": "code",
   "execution_count": 28,
   "id": "7e3e0dae-822f-4ec6-9aa4-474fd89878cb",
   "metadata": {},
   "outputs": [
    {
     "name": "stdout",
     "output_type": "stream",
     "text": [
      "Help on built-in function cumsum:\n",
      "\n",
      "cumsum(...) method of numpy.ndarray instance\n",
      "    a.cumsum(axis=None, dtype=None, out=None)\n",
      "    \n",
      "    Return the cumulative sum of the elements along the given axis.\n",
      "    \n",
      "    Refer to `numpy.cumsum` for full documentation.\n",
      "    \n",
      "    See Also\n",
      "    --------\n",
      "    numpy.cumsum : equivalent function\n",
      "\n"
     ]
    }
   ],
   "source": [
    "help( guadagni.cumsum )"
   ]
  },
  {
   "cell_type": "code",
   "execution_count": 29,
   "id": "bc31a26b-8d46-4820-8c02-163489d609fb",
   "metadata": {},
   "outputs": [
    {
     "data": {
      "text/plain": [
       "array([10,  5,  8, 20, 45,  2,  9])"
      ]
     },
     "execution_count": 29,
     "metadata": {},
     "output_type": "execute_result"
    }
   ],
   "source": [
    "guadagni"
   ]
  },
  {
   "cell_type": "code",
   "execution_count": 30,
   "id": "7a78d4ca-5a3e-44ac-8e6f-eb28f2ce0450",
   "metadata": {},
   "outputs": [
    {
     "data": {
      "text/plain": [
       "array([10, 15, 23, 43, 88, 90, 99])"
      ]
     },
     "execution_count": 30,
     "metadata": {},
     "output_type": "execute_result"
    }
   ],
   "source": [
    "guadagni.cumsum()"
   ]
  },
  {
   "cell_type": "code",
   "execution_count": 31,
   "id": "84aac1c2-f905-4c64-8ae5-d0119b3c5be5",
   "metadata": {},
   "outputs": [
    {
     "data": {
      "text/plain": [
       "13.621711361211675"
      ]
     },
     "execution_count": 31,
     "metadata": {},
     "output_type": "execute_result"
    }
   ],
   "source": [
    "guadagni.std()"
   ]
  },
  {
   "cell_type": "code",
   "execution_count": 32,
   "id": "b0df2c58-01c6-47f2-893e-fd8cd68e95c9",
   "metadata": {},
   "outputs": [
    {
     "name": "stdout",
     "output_type": "stream",
     "text": [
      "20\n",
      "45\n"
     ]
    }
   ],
   "source": [
    "for guadagno in guadagni:\n",
    "    if guadagno > 10:\n",
    "        print(guadagno)"
   ]
  },
  {
   "cell_type": "markdown",
   "id": "4694ecfd-ba03-466b-856a-7bc3a4aff0ab",
   "metadata": {},
   "source": [
    "### Masking e condizioni di estrazione"
   ]
  },
  {
   "cell_type": "code",
   "execution_count": 35,
   "id": "a69527a4-b296-44d7-b4d4-4b8d2d2fd283",
   "metadata": {},
   "outputs": [],
   "source": [
    "filtro10 = guadagni > 10"
   ]
  },
  {
   "cell_type": "code",
   "execution_count": 34,
   "id": "8b2dc115-2940-49a6-9940-37b740940b5e",
   "metadata": {},
   "outputs": [
    {
     "data": {
      "text/plain": [
       "array([10,  5,  8, 20, 45,  2,  9])"
      ]
     },
     "execution_count": 34,
     "metadata": {},
     "output_type": "execute_result"
    }
   ],
   "source": [
    "guadagni"
   ]
  },
  {
   "cell_type": "code",
   "execution_count": 36,
   "id": "ac2639ef-397c-4f2f-9741-3ca4b443b633",
   "metadata": {},
   "outputs": [
    {
     "data": {
      "text/plain": [
       "array([False, False, False,  True,  True, False, False])"
      ]
     },
     "execution_count": 36,
     "metadata": {},
     "output_type": "execute_result"
    }
   ],
   "source": [
    "filtro10"
   ]
  },
  {
   "cell_type": "code",
   "execution_count": 37,
   "id": "44014a5c-4ee5-48b8-b15d-2f634b6bdd63",
   "metadata": {},
   "outputs": [
    {
     "data": {
      "text/plain": [
       "array([20, 45])"
      ]
     },
     "execution_count": 37,
     "metadata": {},
     "output_type": "execute_result"
    }
   ],
   "source": [
    "guadagni[ filtro10 ]"
   ]
  },
  {
   "cell_type": "code",
   "execution_count": 39,
   "id": "f466f6f2-f853-48ad-9c32-df431d359628",
   "metadata": {},
   "outputs": [
    {
     "data": {
      "text/plain": [
       "array([10,  5,  8,  2,  9])"
      ]
     },
     "execution_count": 39,
     "metadata": {},
     "output_type": "execute_result"
    }
   ],
   "source": [
    "filtro = guadagni < 12\n",
    "guadagni[ filtro ]"
   ]
  },
  {
   "cell_type": "markdown",
   "id": "8dbf8868-f00b-4979-b6da-869b12e7b212",
   "metadata": {},
   "source": [
    "#### Aggiornare pacchetti"
   ]
  },
  {
   "cell_type": "code",
   "execution_count": 40,
   "id": "8d6b3c30-7a9d-4652-aa7a-20541853d74f",
   "metadata": {},
   "outputs": [
    {
     "name": "stdout",
     "output_type": "stream",
     "text": [
      "\u001b[31mERROR: Could not find a version that satisfies the requirement upgrade (from versions: none)\u001b[0m\u001b[31m\n",
      "\u001b[0m\u001b[31mERROR: No matching distribution found for upgrade\u001b[0m\u001b[31m\n",
      "\u001b[0mNote: you may need to restart the kernel to use updated packages.\n"
     ]
    }
   ],
   "source": [
    "pip install upgrade numpy"
   ]
  },
  {
   "cell_type": "markdown",
   "id": "fa7e1b37-88a5-4d81-a240-00c8a3f4f996",
   "metadata": {},
   "source": [
    "## Esercizio slide 2"
   ]
  },
  {
   "cell_type": "code",
   "execution_count": 41,
   "id": "606d8935-2218-4158-a012-e25e00378520",
   "metadata": {},
   "outputs": [],
   "source": [
    "mat = [[0, 1, 2, 3, 4],\n",
    "\t\t[5, 6, 7, 8, 9],\n",
    "\t\t[10, 11, 12, 13, 14]]"
   ]
  },
  {
   "cell_type": "code",
   "execution_count": 42,
   "id": "47a4973e-e3cb-43ca-bbad-2015cd927d61",
   "metadata": {},
   "outputs": [
    {
     "data": {
      "text/plain": [
       "list"
      ]
     },
     "execution_count": 42,
     "metadata": {},
     "output_type": "execute_result"
    }
   ],
   "source": [
    "type(mat)"
   ]
  },
  {
   "cell_type": "code",
   "execution_count": 44,
   "id": "2910462c-f2ee-4ff7-9fa3-ca0f550fe2dd",
   "metadata": {},
   "outputs": [
    {
     "data": {
      "text/plain": [
       "1"
      ]
     },
     "execution_count": 44,
     "metadata": {},
     "output_type": "execute_result"
    }
   ],
   "source": [
    "mat[0][1]"
   ]
  },
  {
   "cell_type": "code",
   "execution_count": 45,
   "id": "e2d6d8a3-49ba-481a-9c43-bea91a2ea40b",
   "metadata": {},
   "outputs": [
    {
     "data": {
      "text/plain": [
       "9"
      ]
     },
     "execution_count": 45,
     "metadata": {},
     "output_type": "execute_result"
    }
   ],
   "source": [
    "mat[1][4]"
   ]
  },
  {
   "cell_type": "code",
   "execution_count": 46,
   "id": "ac40edcc-9cbf-42ab-9324-7b20a0831776",
   "metadata": {},
   "outputs": [],
   "source": [
    "arr = np.array(mat)"
   ]
  },
  {
   "cell_type": "code",
   "execution_count": 47,
   "id": "995d5417-4a75-4535-a0e9-0c90b82038ab",
   "metadata": {},
   "outputs": [
    {
     "data": {
      "text/plain": [
       "[[0, 1, 2, 3, 4], [5, 6, 7, 8, 9], [10, 11, 12, 13, 14]]"
      ]
     },
     "execution_count": 47,
     "metadata": {},
     "output_type": "execute_result"
    }
   ],
   "source": [
    "mat"
   ]
  },
  {
   "cell_type": "code",
   "execution_count": 48,
   "id": "83bf9e3f-07a0-4afe-8b4d-c85beca358be",
   "metadata": {},
   "outputs": [
    {
     "data": {
      "text/plain": [
       "array([[ 0,  1,  2,  3,  4],\n",
       "       [ 5,  6,  7,  8,  9],\n",
       "       [10, 11, 12, 13, 14]])"
      ]
     },
     "execution_count": 48,
     "metadata": {},
     "output_type": "execute_result"
    }
   ],
   "source": [
    "arr"
   ]
  },
  {
   "cell_type": "code",
   "execution_count": 49,
   "id": "fd67a79c-a4c1-46a5-af1f-209c8acd025d",
   "metadata": {},
   "outputs": [
    {
     "data": {
      "text/plain": [
       "9"
      ]
     },
     "execution_count": 49,
     "metadata": {},
     "output_type": "execute_result"
    }
   ],
   "source": [
    "arr[1, 4]"
   ]
  },
  {
   "cell_type": "code",
   "execution_count": 50,
   "id": "4ef2bfcd-9085-4553-8180-6eacdc7d2701",
   "metadata": {},
   "outputs": [
    {
     "data": {
      "text/plain": [
       "(3, 5)"
      ]
     },
     "execution_count": 50,
     "metadata": {},
     "output_type": "execute_result"
    }
   ],
   "source": [
    "arr.shape"
   ]
  },
  {
   "cell_type": "code",
   "execution_count": 51,
   "id": "752e2705-5987-4e6a-98a2-64626ed1c99d",
   "metadata": {},
   "outputs": [
    {
     "data": {
      "text/plain": [
       "3"
      ]
     },
     "execution_count": 51,
     "metadata": {},
     "output_type": "execute_result"
    }
   ],
   "source": [
    "len(mat)"
   ]
  },
  {
   "cell_type": "code",
   "execution_count": 52,
   "id": "ca411d91-469b-41ba-ab93-f19059c9c395",
   "metadata": {},
   "outputs": [
    {
     "data": {
      "text/plain": [
       "7.0"
      ]
     },
     "execution_count": 52,
     "metadata": {},
     "output_type": "execute_result"
    }
   ],
   "source": [
    "arr.mean()"
   ]
  },
  {
   "cell_type": "markdown",
   "id": "fdab8cf2-6e69-4350-98ca-4a2140857402",
   "metadata": {},
   "source": [
    "## Esercizio slide 3\n",
    "### Parziale"
   ]
  },
  {
   "cell_type": "code",
   "execution_count": 53,
   "id": "0674b51f-5d68-4043-b1d4-a4c70dd7fc38",
   "metadata": {},
   "outputs": [
    {
     "data": {
      "text/plain": [
       "3.141592653589793"
      ]
     },
     "execution_count": 53,
     "metadata": {},
     "output_type": "execute_result"
    }
   ],
   "source": [
    "math.pi"
   ]
  },
  {
   "cell_type": "markdown",
   "id": "f390c249-3ce7-4883-b727-b0c9bf482696",
   "metadata": {},
   "source": [
    "## Esercizio slide 5"
   ]
  },
  {
   "cell_type": "code",
   "execution_count": 54,
   "id": "6be127b7-a2a1-4348-9942-9780db2993a1",
   "metadata": {},
   "outputs": [],
   "source": [
    "lst = [2000, 5500, 7200, 4320, 1280, 1900,\n",
    "\t\t2500, 3900, 6410, 8150, 7100, 5350]\n"
   ]
  },
  {
   "cell_type": "code",
   "execution_count": 55,
   "id": "4ae43f0b-1295-4853-a0c8-59eee5f5279c",
   "metadata": {},
   "outputs": [],
   "source": [
    "lst = np.array(lst)"
   ]
  },
  {
   "cell_type": "code",
   "execution_count": 56,
   "id": "41479c9f-47e8-4bff-8a4a-9b5f0b0a25f2",
   "metadata": {},
   "outputs": [
    {
     "data": {
      "text/plain": [
       "1280"
      ]
     },
     "execution_count": 56,
     "metadata": {},
     "output_type": "execute_result"
    }
   ],
   "source": [
    "lst.min()"
   ]
  },
  {
   "cell_type": "code",
   "execution_count": 57,
   "id": "eb323fae-35a6-4c87-98cd-d7a49226fa41",
   "metadata": {},
   "outputs": [
    {
     "data": {
      "text/plain": [
       "8150"
      ]
     },
     "execution_count": 57,
     "metadata": {},
     "output_type": "execute_result"
    }
   ],
   "source": [
    "lst.max()"
   ]
  },
  {
   "cell_type": "code",
   "execution_count": 60,
   "id": "8e934578-06f3-4b62-a32d-9a7914ebc5f8",
   "metadata": {},
   "outputs": [],
   "source": [
    "filtro = lst > 4999\n",
    "grandi_vendite = lst[ filtro ]"
   ]
  },
  {
   "cell_type": "code",
   "execution_count": 62,
   "id": "0142bf0a-323b-4e9d-81ab-6eabb8891ca5",
   "metadata": {},
   "outputs": [
    {
     "data": {
      "text/plain": [
       "(6,)"
      ]
     },
     "execution_count": 62,
     "metadata": {},
     "output_type": "execute_result"
    }
   ],
   "source": [
    "grandi_vendite.shape"
   ]
  },
  {
   "cell_type": "code",
   "execution_count": 64,
   "id": "082834a8-ffa6-4b5f-bdee-f24be785c167",
   "metadata": {},
   "outputs": [
    {
     "data": {
      "text/plain": [
       "6618.333333333333"
      ]
     },
     "execution_count": 64,
     "metadata": {},
     "output_type": "execute_result"
    }
   ],
   "source": [
    "grandi_vendite.mean()"
   ]
  },
  {
   "cell_type": "code",
   "execution_count": 65,
   "id": "119507e3-d26e-4193-bf21-461c6b108b31",
   "metadata": {},
   "outputs": [
    {
     "data": {
      "text/plain": [
       "array([2000, 1280, 1900, 2500])"
      ]
     },
     "execution_count": 65,
     "metadata": {},
     "output_type": "execute_result"
    }
   ],
   "source": [
    "filtro3k = lst < 3000\n",
    "piccole_vendite = lst[filtro3k]\n",
    "piccole_vendite"
   ]
  },
  {
   "cell_type": "code",
   "execution_count": 66,
   "id": "2bbf99fe-f05d-4618-8c30-1f49feaf0df9",
   "metadata": {},
   "outputs": [
    {
     "data": {
      "text/plain": [
       "4634.166666666667"
      ]
     },
     "execution_count": 66,
     "metadata": {},
     "output_type": "execute_result"
    }
   ],
   "source": [
    "lst.mean()"
   ]
  },
  {
   "cell_type": "code",
   "execution_count": 67,
   "id": "6ac5c5cf-7d88-4b67-99f5-e35bcc239616",
   "metadata": {},
   "outputs": [
    {
     "data": {
      "text/plain": [
       "(12,)"
      ]
     },
     "execution_count": 67,
     "metadata": {},
     "output_type": "execute_result"
    }
   ],
   "source": [
    "lst.shape"
   ]
  },
  {
   "cell_type": "markdown",
   "id": "8272e302-33fc-4818-a078-3c9fcca099bc",
   "metadata": {},
   "source": [
    "## Esercizio slide 7"
   ]
  },
  {
   "cell_type": "code",
   "execution_count": 68,
   "id": "c64110dd-e8e1-4ce4-a539-106ddefb28f3",
   "metadata": {},
   "outputs": [],
   "source": [
    "stipendi = np.array( [100, 200, 300, 400, 500,\n",
    "\t\t\t\t  600, 700, 800, 900, 1000] )"
   ]
  },
  {
   "cell_type": "code",
   "execution_count": 69,
   "id": "4dbf8650-8e5f-43b5-a824-245bb611fab2",
   "metadata": {},
   "outputs": [
    {
     "data": {
      "text/plain": [
       "array([ 200,  400,  600,  800, 1000, 1200, 1400, 1600, 1800, 2000])"
      ]
     },
     "execution_count": 69,
     "metadata": {},
     "output_type": "execute_result"
    }
   ],
   "source": [
    "stipendi * 2"
   ]
  },
  {
   "cell_type": "markdown",
   "id": "c1654438-c84b-45f2-b8b5-8939502c2852",
   "metadata": {},
   "source": [
    "## Pacchetti\n",
    "### `pandas`"
   ]
  },
  {
   "cell_type": "code",
   "execution_count": 70,
   "id": "17e58b50-997a-4868-97aa-eabb148a06a0",
   "metadata": {},
   "outputs": [],
   "source": [
    "import pandas as pd"
   ]
  },
  {
   "cell_type": "code",
   "execution_count": 72,
   "id": "253b4e9c-6e12-47d2-92a7-36b859e1cb2a",
   "metadata": {},
   "outputs": [],
   "source": [
    "guadagni = [1, 4, 5, 6, 10, 4]"
   ]
  },
  {
   "cell_type": "code",
   "execution_count": 75,
   "id": "61b695d1-4d96-42a7-9ba1-9979ae8591f2",
   "metadata": {},
   "outputs": [],
   "source": [
    "guadagni_s = pd.Series(guadagni, index=[\"gen\", \"feb\", \"mar\", \"apr\", \"mag\", \"giu\"])"
   ]
  },
  {
   "cell_type": "code",
   "execution_count": 76,
   "id": "9b317897-88b2-423b-b785-f54eadce5a38",
   "metadata": {},
   "outputs": [
    {
     "data": {
      "text/plain": [
       "gen     1\n",
       "feb     4\n",
       "mar     5\n",
       "apr     6\n",
       "mag    10\n",
       "giu     4\n",
       "dtype: int64"
      ]
     },
     "execution_count": 76,
     "metadata": {},
     "output_type": "execute_result"
    }
   ],
   "source": [
    "guadagni_s"
   ]
  },
  {
   "cell_type": "code",
   "execution_count": 77,
   "id": "9ff5a52a-1c48-4f2c-8b85-85a3187303ce",
   "metadata": {},
   "outputs": [
    {
     "data": {
      "text/plain": [
       "6"
      ]
     },
     "execution_count": 77,
     "metadata": {},
     "output_type": "execute_result"
    }
   ],
   "source": [
    "guadagni_s[\"apr\"]"
   ]
  },
  {
   "cell_type": "code",
   "execution_count": 78,
   "id": "7a715a51-bf0d-454a-96c6-914dd1301803",
   "metadata": {},
   "outputs": [
    {
     "data": {
      "text/plain": [
       "mar     5\n",
       "apr     6\n",
       "mag    10\n",
       "dtype: int64"
      ]
     },
     "execution_count": 78,
     "metadata": {},
     "output_type": "execute_result"
    }
   ],
   "source": [
    "guadagni_s[\"mar\":\"mag\"]"
   ]
  },
  {
   "cell_type": "code",
   "execution_count": 79,
   "id": "b2303301-b3a8-484b-8136-22cd61777fec",
   "metadata": {},
   "outputs": [
    {
     "data": {
      "text/plain": [
       "10"
      ]
     },
     "execution_count": 79,
     "metadata": {},
     "output_type": "execute_result"
    }
   ],
   "source": [
    "guadagni_s[4]"
   ]
  },
  {
   "cell_type": "code",
   "execution_count": 80,
   "id": "ceef5340-65df-41e1-a0fe-5dc4b9125b38",
   "metadata": {},
   "outputs": [
    {
     "data": {
      "text/plain": [
       "5.0"
      ]
     },
     "execution_count": 80,
     "metadata": {},
     "output_type": "execute_result"
    }
   ],
   "source": [
    "guadagni_s.mean()"
   ]
  },
  {
   "cell_type": "code",
   "execution_count": 81,
   "id": "111b9d3a-0aaa-4383-b4e2-ff0c2975d2d0",
   "metadata": {},
   "outputs": [
    {
     "data": {
      "text/plain": [
       "gen     100\n",
       "feb     400\n",
       "mar     500\n",
       "apr     600\n",
       "mag    1000\n",
       "giu     400\n",
       "dtype: int64"
      ]
     },
     "execution_count": 81,
     "metadata": {},
     "output_type": "execute_result"
    }
   ],
   "source": [
    "guadagni_s * 100"
   ]
  },
  {
   "cell_type": "code",
   "execution_count": 84,
   "id": "dc5027c2-c8ac-4060-92f4-2463a2ed9d71",
   "metadata": {},
   "outputs": [],
   "source": [
    "mesi = list( guadagni_s.index )"
   ]
  },
  {
   "cell_type": "code",
   "execution_count": 85,
   "id": "8eaaf400-47de-4e5c-9786-1d015d985f2d",
   "metadata": {},
   "outputs": [
    {
     "data": {
      "text/plain": [
       "False"
      ]
     },
     "execution_count": 85,
     "metadata": {},
     "output_type": "execute_result"
    }
   ],
   "source": [
    "\"ago\" in mesi"
   ]
  },
  {
   "cell_type": "code",
   "execution_count": 86,
   "id": "af9439a6-72bd-413c-b199-bd53a0300cab",
   "metadata": {},
   "outputs": [
    {
     "data": {
      "text/plain": [
       "True"
      ]
     },
     "execution_count": 86,
     "metadata": {},
     "output_type": "execute_result"
    }
   ],
   "source": [
    "\"apr\" in mesi"
   ]
  },
  {
   "cell_type": "code",
   "execution_count": 90,
   "id": "af0856d5-d0fe-416d-a9f2-ee1f4c268bc9",
   "metadata": {},
   "outputs": [],
   "source": [
    "df = pd.DataFrame( arr, index=[\"abbigliamento\", \"calzature\", \"sportivo\"],\n",
    "              columns=[\"gen\", \"feb\", \"mar\", \"apr\", \"mag\"] )"
   ]
  },
  {
   "cell_type": "code",
   "execution_count": 91,
   "id": "3291ba80-8eee-453d-92b5-0af87d302bf4",
   "metadata": {},
   "outputs": [
    {
     "data": {
      "text/html": [
       "<div>\n",
       "<style scoped>\n",
       "    .dataframe tbody tr th:only-of-type {\n",
       "        vertical-align: middle;\n",
       "    }\n",
       "\n",
       "    .dataframe tbody tr th {\n",
       "        vertical-align: top;\n",
       "    }\n",
       "\n",
       "    .dataframe thead th {\n",
       "        text-align: right;\n",
       "    }\n",
       "</style>\n",
       "<table border=\"1\" class=\"dataframe\">\n",
       "  <thead>\n",
       "    <tr style=\"text-align: right;\">\n",
       "      <th></th>\n",
       "      <th>gen</th>\n",
       "      <th>feb</th>\n",
       "      <th>mar</th>\n",
       "      <th>apr</th>\n",
       "      <th>mag</th>\n",
       "    </tr>\n",
       "  </thead>\n",
       "  <tbody>\n",
       "    <tr>\n",
       "      <th>abbigliamento</th>\n",
       "      <td>0</td>\n",
       "      <td>1</td>\n",
       "      <td>2</td>\n",
       "      <td>3</td>\n",
       "      <td>4</td>\n",
       "    </tr>\n",
       "    <tr>\n",
       "      <th>calzature</th>\n",
       "      <td>5</td>\n",
       "      <td>6</td>\n",
       "      <td>7</td>\n",
       "      <td>8</td>\n",
       "      <td>9</td>\n",
       "    </tr>\n",
       "    <tr>\n",
       "      <th>sportivo</th>\n",
       "      <td>10</td>\n",
       "      <td>11</td>\n",
       "      <td>12</td>\n",
       "      <td>13</td>\n",
       "      <td>14</td>\n",
       "    </tr>\n",
       "  </tbody>\n",
       "</table>\n",
       "</div>"
      ],
      "text/plain": [
       "               gen  feb  mar  apr  mag\n",
       "abbigliamento    0    1    2    3    4\n",
       "calzature        5    6    7    8    9\n",
       "sportivo        10   11   12   13   14"
      ]
     },
     "execution_count": 91,
     "metadata": {},
     "output_type": "execute_result"
    }
   ],
   "source": [
    "df"
   ]
  },
  {
   "cell_type": "code",
   "execution_count": 92,
   "id": "1f58f095-e9cc-4f90-ae62-8a2b502d2066",
   "metadata": {},
   "outputs": [
    {
     "data": {
      "text/plain": [
       "(3, 5)"
      ]
     },
     "execution_count": 92,
     "metadata": {},
     "output_type": "execute_result"
    }
   ],
   "source": [
    "df.shape"
   ]
  },
  {
   "cell_type": "code",
   "execution_count": 93,
   "id": "f183bd84-7a9b-4f6c-a367-6016f3109271",
   "metadata": {},
   "outputs": [
    {
     "data": {
      "text/plain": [
       "abbigliamento     0\n",
       "calzature         5\n",
       "sportivo         10\n",
       "Name: gen, dtype: int64"
      ]
     },
     "execution_count": 93,
     "metadata": {},
     "output_type": "execute_result"
    }
   ],
   "source": [
    "df[\"gen\"]"
   ]
  },
  {
   "cell_type": "code",
   "execution_count": 94,
   "id": "b881ea0e-1175-4f40-bc07-38e795b0488f",
   "metadata": {},
   "outputs": [
    {
     "data": {
      "text/plain": [
       "gen    5.0\n",
       "feb    6.0\n",
       "mar    7.0\n",
       "apr    8.0\n",
       "mag    9.0\n",
       "dtype: float64"
      ]
     },
     "execution_count": 94,
     "metadata": {},
     "output_type": "execute_result"
    }
   ],
   "source": [
    "df.mean()"
   ]
  },
  {
   "cell_type": "markdown",
   "id": "913602ea-1d8a-482d-b949-886f940f4685",
   "metadata": {},
   "source": [
    "## Connessione a database MySQL"
   ]
  },
  {
   "cell_type": "code",
   "execution_count": 101,
   "id": "0238139b-588e-4216-b098-ce424eb11692",
   "metadata": {},
   "outputs": [],
   "source": [
    "import os\n",
    "import dotenv\n",
    "import pandas as pd\n",
    "from sqlalchemy import create_engine\n",
    "\n",
    "dotenv.load_dotenv(dotenv_path=\".env\", override=True)\n",
    "\n",
    "username = os.getenv(\"username\")\n",
    "password = os.getenv(\"password\")\n",
    "host = os.getenv(\"host\")\n",
    "dbname = os.getenv(\"dbname\")\n",
    "\n",
    "conn_string = \"mysql+pymysql://\" + username + \":\" + password + \"@\" + host + \"/\" + dbname\n",
    "db_engine = create_engine(conn_string)\n",
    "\n",
    "query = \"SELECT * FROM dimproduct\"\n",
    "df = pd.read_sql(sql=query, con=db_engine)"
   ]
  },
  {
   "cell_type": "code",
   "execution_count": 102,
   "id": "8a55013d-44fa-4505-996f-c21b0c236c40",
   "metadata": {},
   "outputs": [
    {
     "data": {
      "text/html": [
       "<div>\n",
       "<style scoped>\n",
       "    .dataframe tbody tr th:only-of-type {\n",
       "        vertical-align: middle;\n",
       "    }\n",
       "\n",
       "    .dataframe tbody tr th {\n",
       "        vertical-align: top;\n",
       "    }\n",
       "\n",
       "    .dataframe thead th {\n",
       "        text-align: right;\n",
       "    }\n",
       "</style>\n",
       "<table border=\"1\" class=\"dataframe\">\n",
       "  <thead>\n",
       "    <tr style=\"text-align: right;\">\n",
       "      <th></th>\n",
       "      <th>ProductKey</th>\n",
       "      <th>ProductAlternateKey</th>\n",
       "      <th>ProductSubcategoryKey</th>\n",
       "      <th>WeightUnitMeasureCode</th>\n",
       "      <th>SizeUnitMeasureCode</th>\n",
       "      <th>EnglishProductName</th>\n",
       "      <th>SpanishProductName</th>\n",
       "      <th>FrenchProductName</th>\n",
       "      <th>StandardCost</th>\n",
       "      <th>FinishedGoodsFlag</th>\n",
       "      <th>...</th>\n",
       "      <th>ChineseDescription</th>\n",
       "      <th>ArabicDescription</th>\n",
       "      <th>HebrewDescription</th>\n",
       "      <th>ThaiDescription</th>\n",
       "      <th>GermanDescription</th>\n",
       "      <th>JapaneseDescription</th>\n",
       "      <th>TurkishDescription</th>\n",
       "      <th>StartDate</th>\n",
       "      <th>EndDate</th>\n",
       "      <th>Status</th>\n",
       "    </tr>\n",
       "  </thead>\n",
       "  <tbody>\n",
       "    <tr>\n",
       "      <th>0</th>\n",
       "      <td>1</td>\n",
       "      <td>AR-5381</td>\n",
       "      <td>NaN</td>\n",
       "      <td>None</td>\n",
       "      <td>None</td>\n",
       "      <td>Adjustable Race</td>\n",
       "      <td></td>\n",
       "      <td></td>\n",
       "      <td>NaN</td>\n",
       "      <td>0</td>\n",
       "      <td>...</td>\n",
       "      <td>None</td>\n",
       "      <td>None</td>\n",
       "      <td>None</td>\n",
       "      <td>None</td>\n",
       "      <td>None</td>\n",
       "      <td>None</td>\n",
       "      <td>None</td>\n",
       "      <td>2003-07-01</td>\n",
       "      <td>NaT</td>\n",
       "      <td>Current</td>\n",
       "    </tr>\n",
       "    <tr>\n",
       "      <th>1</th>\n",
       "      <td>2</td>\n",
       "      <td>BA-8327</td>\n",
       "      <td>NaN</td>\n",
       "      <td>None</td>\n",
       "      <td>None</td>\n",
       "      <td>Bearing Ball</td>\n",
       "      <td></td>\n",
       "      <td></td>\n",
       "      <td>NaN</td>\n",
       "      <td>0</td>\n",
       "      <td>...</td>\n",
       "      <td>None</td>\n",
       "      <td>None</td>\n",
       "      <td>None</td>\n",
       "      <td>None</td>\n",
       "      <td>None</td>\n",
       "      <td>None</td>\n",
       "      <td>None</td>\n",
       "      <td>2003-07-01</td>\n",
       "      <td>NaT</td>\n",
       "      <td>Current</td>\n",
       "    </tr>\n",
       "    <tr>\n",
       "      <th>2</th>\n",
       "      <td>3</td>\n",
       "      <td>BE-2349</td>\n",
       "      <td>NaN</td>\n",
       "      <td>None</td>\n",
       "      <td>None</td>\n",
       "      <td>BB Ball Bearing</td>\n",
       "      <td></td>\n",
       "      <td></td>\n",
       "      <td>NaN</td>\n",
       "      <td>0</td>\n",
       "      <td>...</td>\n",
       "      <td>None</td>\n",
       "      <td>None</td>\n",
       "      <td>None</td>\n",
       "      <td>None</td>\n",
       "      <td>None</td>\n",
       "      <td>None</td>\n",
       "      <td>None</td>\n",
       "      <td>2003-07-01</td>\n",
       "      <td>NaT</td>\n",
       "      <td>Current</td>\n",
       "    </tr>\n",
       "    <tr>\n",
       "      <th>3</th>\n",
       "      <td>4</td>\n",
       "      <td>BE-2908</td>\n",
       "      <td>NaN</td>\n",
       "      <td>None</td>\n",
       "      <td>None</td>\n",
       "      <td>Headset Ball Bearings</td>\n",
       "      <td></td>\n",
       "      <td></td>\n",
       "      <td>NaN</td>\n",
       "      <td>0</td>\n",
       "      <td>...</td>\n",
       "      <td>None</td>\n",
       "      <td>None</td>\n",
       "      <td>None</td>\n",
       "      <td>None</td>\n",
       "      <td>None</td>\n",
       "      <td>None</td>\n",
       "      <td>None</td>\n",
       "      <td>2003-07-01</td>\n",
       "      <td>NaT</td>\n",
       "      <td>Current</td>\n",
       "    </tr>\n",
       "    <tr>\n",
       "      <th>4</th>\n",
       "      <td>5</td>\n",
       "      <td>BL-2036</td>\n",
       "      <td>NaN</td>\n",
       "      <td>None</td>\n",
       "      <td>None</td>\n",
       "      <td>Blade</td>\n",
       "      <td></td>\n",
       "      <td></td>\n",
       "      <td>NaN</td>\n",
       "      <td>0</td>\n",
       "      <td>...</td>\n",
       "      <td>None</td>\n",
       "      <td>None</td>\n",
       "      <td>None</td>\n",
       "      <td>None</td>\n",
       "      <td>None</td>\n",
       "      <td>None</td>\n",
       "      <td>None</td>\n",
       "      <td>2003-07-01</td>\n",
       "      <td>NaT</td>\n",
       "      <td>Current</td>\n",
       "    </tr>\n",
       "    <tr>\n",
       "      <th>...</th>\n",
       "      <td>...</td>\n",
       "      <td>...</td>\n",
       "      <td>...</td>\n",
       "      <td>...</td>\n",
       "      <td>...</td>\n",
       "      <td>...</td>\n",
       "      <td>...</td>\n",
       "      <td>...</td>\n",
       "      <td>...</td>\n",
       "      <td>...</td>\n",
       "      <td>...</td>\n",
       "      <td>...</td>\n",
       "      <td>...</td>\n",
       "      <td>...</td>\n",
       "      <td>...</td>\n",
       "      <td>...</td>\n",
       "      <td>...</td>\n",
       "      <td>...</td>\n",
       "      <td>...</td>\n",
       "      <td>...</td>\n",
       "      <td>...</td>\n",
       "    </tr>\n",
       "    <tr>\n",
       "      <th>601</th>\n",
       "      <td>602</td>\n",
       "      <td>BB-8107</td>\n",
       "      <td>5.0</td>\n",
       "      <td>G</td>\n",
       "      <td>None</td>\n",
       "      <td>ML Bottom Bracket</td>\n",
       "      <td>Eje de pedalier GM</td>\n",
       "      <td>Axe de pédalier ML</td>\n",
       "      <td>44.95</td>\n",
       "      <td>1</td>\n",
       "      <td>...</td>\n",
       "      <td>铝合金车圈；大直径脚蹬轴。</td>\n",
       "      <td>فناجين من سبيكة الألومنيوم؛ ذات محور دوران كبي...</td>\n",
       "      <td>כיסויים מסגסוגת אלומיניום; ציר רחב-קוטר.</td>\n",
       "      <td>ดุมอลูมิเนียมอัลลอยด์ แกนเพลาขนาดใหญ่</td>\n",
       "      <td>Außenringe aus Aluminiumlegierung; Radachse mi...</td>\n",
       "      <td>アルミニウム合金カップ、大径スピンドル。</td>\n",
       "      <td>Alüminyum alaşımı orta göbekler; geniş çaplı mil.</td>\n",
       "      <td>2013-07-01</td>\n",
       "      <td>NaT</td>\n",
       "      <td>Current</td>\n",
       "    </tr>\n",
       "    <tr>\n",
       "      <th>602</th>\n",
       "      <td>603</td>\n",
       "      <td>BB-9108</td>\n",
       "      <td>5.0</td>\n",
       "      <td>G</td>\n",
       "      <td>None</td>\n",
       "      <td>HL Bottom Bracket</td>\n",
       "      <td>Eje de pedalier GA</td>\n",
       "      <td>Axe de pédalier HL</td>\n",
       "      <td>53.94</td>\n",
       "      <td>1</td>\n",
       "      <td>...</td>\n",
       "      <td>铝合金车圈和空心轴。</td>\n",
       "      <td>فناجين من سبيكة الألومنيوم ومحور أجوف.</td>\n",
       "      <td>כיסויים מסגסוגת אלומיניום וציר חלול.</td>\n",
       "      <td>ดุมอลูมิเนียมอัลลอยด์และเพลากลวง</td>\n",
       "      <td>Außenringe aus Aluminiumlegierung und hohle Ac...</td>\n",
       "      <td>アルミニウム合金カップとホロー アクスル。</td>\n",
       "      <td>Alüminyum alaşımı orta göbekler ve içi boş aks.</td>\n",
       "      <td>2013-07-01</td>\n",
       "      <td>NaT</td>\n",
       "      <td>Current</td>\n",
       "    </tr>\n",
       "    <tr>\n",
       "      <th>603</th>\n",
       "      <td>604</td>\n",
       "      <td>BK-R19B-44</td>\n",
       "      <td>2.0</td>\n",
       "      <td>LB</td>\n",
       "      <td>CM</td>\n",
       "      <td>Road-750 Black, 44</td>\n",
       "      <td>Carretera: 750, negra, 44</td>\n",
       "      <td>Vélo de route 750 noir, 44</td>\n",
       "      <td>343.65</td>\n",
       "      <td>1</td>\n",
       "      <td>...</td>\n",
       "      <td>入门级成人自行车；确保越野旅行或公路骑乘的舒适。快拆式车毂和轮缘。</td>\n",
       "      <td>إنها دراجة مناسبة للمبتدئين من البالغين؛ فهي ت...</td>\n",
       "      <td>אופני מבוגרים למתחילים; מציעים רכיבה נוחה \"מחו...</td>\n",
       "      <td>จักรยานระดับเริ่มต้นสำหรับผู้ใหญ่ ให้ความสบายใ...</td>\n",
       "      <td>Ein Erwachsenenrad für Einsteiger; bietet Komf...</td>\n",
       "      <td>エントリー レベルに対応する、クロスカントリーにも街への買い物にも快適な、大人の自転車。ハブ...</td>\n",
       "      <td>\"Başlangıç seviyesinde yetişkin bisikleti, kır...</td>\n",
       "      <td>2013-07-01</td>\n",
       "      <td>NaT</td>\n",
       "      <td>Current</td>\n",
       "    </tr>\n",
       "    <tr>\n",
       "      <th>604</th>\n",
       "      <td>605</td>\n",
       "      <td>BK-R19B-48</td>\n",
       "      <td>2.0</td>\n",
       "      <td>LB</td>\n",
       "      <td>CM</td>\n",
       "      <td>Road-750 Black, 48</td>\n",
       "      <td>Carretera: 750, negra, 48</td>\n",
       "      <td>Vélo de route 750 noir, 48</td>\n",
       "      <td>343.65</td>\n",
       "      <td>1</td>\n",
       "      <td>...</td>\n",
       "      <td>入门级成人自行车；确保越野旅行或公路骑乘的舒适。快拆式车毂和轮缘。</td>\n",
       "      <td>إنها دراجة مناسبة للمبتدئين من البالغين؛ فهي ت...</td>\n",
       "      <td>אופני מבוגרים למתחילים; מציעים רכיבה נוחה \"מחו...</td>\n",
       "      <td>จักรยานระดับเริ่มต้นสำหรับผู้ใหญ่ ให้ความสบายใ...</td>\n",
       "      <td>Ein Erwachsenenrad für Einsteiger; bietet Komf...</td>\n",
       "      <td>エントリー レベルに対応する、クロスカントリーにも街への買い物にも快適な、大人の自転車。ハブ...</td>\n",
       "      <td>\"Başlangıç seviyesinde yetişkin bisikleti, kır...</td>\n",
       "      <td>2013-07-01</td>\n",
       "      <td>NaT</td>\n",
       "      <td>Current</td>\n",
       "    </tr>\n",
       "    <tr>\n",
       "      <th>605</th>\n",
       "      <td>606</td>\n",
       "      <td>BK-R19B-52</td>\n",
       "      <td>2.0</td>\n",
       "      <td>LB</td>\n",
       "      <td>CM</td>\n",
       "      <td>Road-750 Black, 52</td>\n",
       "      <td>Carretera: 750, negra, 52</td>\n",
       "      <td>Vélo de route 750 noir, 52</td>\n",
       "      <td>343.65</td>\n",
       "      <td>1</td>\n",
       "      <td>...</td>\n",
       "      <td>入门级成人自行车；确保越野旅行或公路骑乘的舒适。快拆式车毂和轮缘。</td>\n",
       "      <td>إنها دراجة مناسبة للمبتدئين من البالغين؛ فهي ت...</td>\n",
       "      <td>אופני מבוגרים למתחילים; מציעים רכיבה נוחה \"מחו...</td>\n",
       "      <td>จักรยานระดับเริ่มต้นสำหรับผู้ใหญ่ ให้ความสบายใ...</td>\n",
       "      <td>Ein Erwachsenenrad für Einsteiger; bietet Komf...</td>\n",
       "      <td>エントリー レベルに対応する、クロスカントリーにも街への買い物にも快適な、大人の自転車。ハブ...</td>\n",
       "      <td>\"Başlangıç seviyesinde yetişkin bisikleti, kır...</td>\n",
       "      <td>2013-07-01</td>\n",
       "      <td>NaT</td>\n",
       "      <td>Current</td>\n",
       "    </tr>\n",
       "  </tbody>\n",
       "</table>\n",
       "<p>606 rows × 36 columns</p>\n",
       "</div>"
      ],
      "text/plain": [
       "     ProductKey ProductAlternateKey  ProductSubcategoryKey  \\\n",
       "0             1             AR-5381                    NaN   \n",
       "1             2             BA-8327                    NaN   \n",
       "2             3             BE-2349                    NaN   \n",
       "3             4             BE-2908                    NaN   \n",
       "4             5             BL-2036                    NaN   \n",
       "..          ...                 ...                    ...   \n",
       "601         602             BB-8107                    5.0   \n",
       "602         603             BB-9108                    5.0   \n",
       "603         604          BK-R19B-44                    2.0   \n",
       "604         605          BK-R19B-48                    2.0   \n",
       "605         606          BK-R19B-52                    2.0   \n",
       "\n",
       "    WeightUnitMeasureCode SizeUnitMeasureCode     EnglishProductName  \\\n",
       "0                    None                None        Adjustable Race   \n",
       "1                    None                None           Bearing Ball   \n",
       "2                    None                None        BB Ball Bearing   \n",
       "3                    None                None  Headset Ball Bearings   \n",
       "4                    None                None                  Blade   \n",
       "..                    ...                 ...                    ...   \n",
       "601                     G                None      ML Bottom Bracket   \n",
       "602                     G                None      HL Bottom Bracket   \n",
       "603                    LB                  CM     Road-750 Black, 44   \n",
       "604                    LB                  CM     Road-750 Black, 48   \n",
       "605                    LB                  CM     Road-750 Black, 52   \n",
       "\n",
       "            SpanishProductName           FrenchProductName  StandardCost  \\\n",
       "0                                                                    NaN   \n",
       "1                                                                    NaN   \n",
       "2                                                                    NaN   \n",
       "3                                                                    NaN   \n",
       "4                                                                    NaN   \n",
       "..                         ...                         ...           ...   \n",
       "601         Eje de pedalier GM          Axe de pédalier ML         44.95   \n",
       "602         Eje de pedalier GA          Axe de pédalier HL         53.94   \n",
       "603  Carretera: 750, negra, 44  Vélo de route 750 noir, 44        343.65   \n",
       "604  Carretera: 750, negra, 48  Vélo de route 750 noir, 48        343.65   \n",
       "605  Carretera: 750, negra, 52  Vélo de route 750 noir, 52        343.65   \n",
       "\n",
       "     FinishedGoodsFlag  ...                 ChineseDescription  \\\n",
       "0                    0  ...                               None   \n",
       "1                    0  ...                               None   \n",
       "2                    0  ...                               None   \n",
       "3                    0  ...                               None   \n",
       "4                    0  ...                               None   \n",
       "..                 ...  ...                                ...   \n",
       "601                  1  ...                      铝合金车圈；大直径脚蹬轴。   \n",
       "602                  1  ...                         铝合金车圈和空心轴。   \n",
       "603                  1  ...  入门级成人自行车；确保越野旅行或公路骑乘的舒适。快拆式车毂和轮缘。   \n",
       "604                  1  ...  入门级成人自行车；确保越野旅行或公路骑乘的舒适。快拆式车毂和轮缘。   \n",
       "605                  1  ...  入门级成人自行车；确保越野旅行或公路骑乘的舒适。快拆式车毂和轮缘。   \n",
       "\n",
       "                                     ArabicDescription  \\\n",
       "0                                                 None   \n",
       "1                                                 None   \n",
       "2                                                 None   \n",
       "3                                                 None   \n",
       "4                                                 None   \n",
       "..                                                 ...   \n",
       "601  فناجين من سبيكة الألومنيوم؛ ذات محور دوران كبي...   \n",
       "602             فناجين من سبيكة الألومنيوم ومحور أجوف.   \n",
       "603  إنها دراجة مناسبة للمبتدئين من البالغين؛ فهي ت...   \n",
       "604  إنها دراجة مناسبة للمبتدئين من البالغين؛ فهي ت...   \n",
       "605  إنها دراجة مناسبة للمبتدئين من البالغين؛ فهي ت...   \n",
       "\n",
       "                                     HebrewDescription  \\\n",
       "0                                                 None   \n",
       "1                                                 None   \n",
       "2                                                 None   \n",
       "3                                                 None   \n",
       "4                                                 None   \n",
       "..                                                 ...   \n",
       "601           כיסויים מסגסוגת אלומיניום; ציר רחב-קוטר.   \n",
       "602               כיסויים מסגסוגת אלומיניום וציר חלול.   \n",
       "603  אופני מבוגרים למתחילים; מציעים רכיבה נוחה \"מחו...   \n",
       "604  אופני מבוגרים למתחילים; מציעים רכיבה נוחה \"מחו...   \n",
       "605  אופני מבוגרים למתחילים; מציעים רכיבה נוחה \"מחו...   \n",
       "\n",
       "                                       ThaiDescription  \\\n",
       "0                                                 None   \n",
       "1                                                 None   \n",
       "2                                                 None   \n",
       "3                                                 None   \n",
       "4                                                 None   \n",
       "..                                                 ...   \n",
       "601              ดุมอลูมิเนียมอัลลอยด์ แกนเพลาขนาดใหญ่   \n",
       "602                   ดุมอลูมิเนียมอัลลอยด์และเพลากลวง   \n",
       "603  จักรยานระดับเริ่มต้นสำหรับผู้ใหญ่ ให้ความสบายใ...   \n",
       "604  จักรยานระดับเริ่มต้นสำหรับผู้ใหญ่ ให้ความสบายใ...   \n",
       "605  จักรยานระดับเริ่มต้นสำหรับผู้ใหญ่ ให้ความสบายใ...   \n",
       "\n",
       "                                     GermanDescription  \\\n",
       "0                                                 None   \n",
       "1                                                 None   \n",
       "2                                                 None   \n",
       "3                                                 None   \n",
       "4                                                 None   \n",
       "..                                                 ...   \n",
       "601  Außenringe aus Aluminiumlegierung; Radachse mi...   \n",
       "602  Außenringe aus Aluminiumlegierung und hohle Ac...   \n",
       "603  Ein Erwachsenenrad für Einsteiger; bietet Komf...   \n",
       "604  Ein Erwachsenenrad für Einsteiger; bietet Komf...   \n",
       "605  Ein Erwachsenenrad für Einsteiger; bietet Komf...   \n",
       "\n",
       "                                   JapaneseDescription  \\\n",
       "0                                                 None   \n",
       "1                                                 None   \n",
       "2                                                 None   \n",
       "3                                                 None   \n",
       "4                                                 None   \n",
       "..                                                 ...   \n",
       "601                               アルミニウム合金カップ、大径スピンドル。   \n",
       "602                              アルミニウム合金カップとホロー アクスル。   \n",
       "603  エントリー レベルに対応する、クロスカントリーにも街への買い物にも快適な、大人の自転車。ハブ...   \n",
       "604  エントリー レベルに対応する、クロスカントリーにも街への買い物にも快適な、大人の自転車。ハブ...   \n",
       "605  エントリー レベルに対応する、クロスカントリーにも街への買い物にも快適な、大人の自転車。ハブ...   \n",
       "\n",
       "                                    TurkishDescription  StartDate EndDate  \\\n",
       "0                                                 None 2003-07-01     NaT   \n",
       "1                                                 None 2003-07-01     NaT   \n",
       "2                                                 None 2003-07-01     NaT   \n",
       "3                                                 None 2003-07-01     NaT   \n",
       "4                                                 None 2003-07-01     NaT   \n",
       "..                                                 ...        ...     ...   \n",
       "601  Alüminyum alaşımı orta göbekler; geniş çaplı mil. 2013-07-01     NaT   \n",
       "602    Alüminyum alaşımı orta göbekler ve içi boş aks. 2013-07-01     NaT   \n",
       "603  \"Başlangıç seviyesinde yetişkin bisikleti, kır... 2013-07-01     NaT   \n",
       "604  \"Başlangıç seviyesinde yetişkin bisikleti, kır... 2013-07-01     NaT   \n",
       "605  \"Başlangıç seviyesinde yetişkin bisikleti, kır... 2013-07-01     NaT   \n",
       "\n",
       "      Status  \n",
       "0    Current  \n",
       "1    Current  \n",
       "2    Current  \n",
       "3    Current  \n",
       "4    Current  \n",
       "..       ...  \n",
       "601  Current  \n",
       "602  Current  \n",
       "603  Current  \n",
       "604  Current  \n",
       "605  Current  \n",
       "\n",
       "[606 rows x 36 columns]"
      ]
     },
     "execution_count": 102,
     "metadata": {},
     "output_type": "execute_result"
    }
   ],
   "source": [
    "df"
   ]
  },
  {
   "cell_type": "code",
   "execution_count": 103,
   "id": "6dbf834c-e439-4543-8a5b-882417d83256",
   "metadata": {},
   "outputs": [
    {
     "data": {
      "text/plain": [
       "(606, 36)"
      ]
     },
     "execution_count": 103,
     "metadata": {},
     "output_type": "execute_result"
    }
   ],
   "source": [
    "df.shape"
   ]
  },
  {
   "cell_type": "code",
   "execution_count": null,
   "id": "3e59e9c2-bda3-48f4-a286-f918409bf7b6",
   "metadata": {},
   "outputs": [],
   "source": []
  }
 ],
 "metadata": {
  "kernelspec": {
   "display_name": "Python 3 (ipykernel)",
   "language": "python",
   "name": "python3"
  },
  "language_info": {
   "codemirror_mode": {
    "name": "ipython",
    "version": 3
   },
   "file_extension": ".py",
   "mimetype": "text/x-python",
   "name": "python",
   "nbconvert_exporter": "python",
   "pygments_lexer": "ipython3",
   "version": "3.10.9"
  }
 },
 "nbformat": 4,
 "nbformat_minor": 5
}
